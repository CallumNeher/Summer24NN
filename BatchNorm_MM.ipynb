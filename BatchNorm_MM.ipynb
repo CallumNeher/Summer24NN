{
 "cells": [
  {
   "cell_type": "code",
   "execution_count": 47,
   "id": "759b0920-7654-4145-bba0-4ee66bfd3f68",
   "metadata": {},
   "outputs": [],
   "source": [
    "import torch\n",
    "import torch.nn.functional as F\n",
    "import matplotlib.pyplot as plt # for making figures\n",
    "%matplotlib inline\n",
    "import random"
   ]
  },
  {
   "cell_type": "code",
   "execution_count": 48,
   "id": "892d88c6-2097-4b00-b2f0-7681a86d8077",
   "metadata": {},
   "outputs": [
    {
     "data": {
      "text/plain": [
       "['emma', 'olivia', 'ava', 'isabella', 'sophia']"
      ]
     },
     "execution_count": 48,
     "metadata": {},
     "output_type": "execute_result"
    }
   ],
   "source": [
    "words =  open('names.txt','r').read().splitlines()\n",
    "words[:5]"
   ]
  },
  {
   "cell_type": "code",
   "execution_count": 49,
   "id": "3858c0d3-9c75-4c98-8a78-a574f361b6a9",
   "metadata": {},
   "outputs": [
    {
     "name": "stdout",
     "output_type": "stream",
     "text": [
      "{1: 'a', 2: 'b', 3: 'c', 4: 'd', 5: 'e', 6: 'f', 7: 'g', 8: 'h', 9: 'i', 10: 'j', 11: 'k', 12: 'l', 13: 'm', 14: 'n', 15: 'o', 16: 'p', 17: 'q', 18: 'r', 19: 's', 20: 't', 21: 'u', 22: 'v', 23: 'w', 24: 'x', 25: 'y', 26: 'z', 0: '.'}\n"
     ]
    }
   ],
   "source": [
    "# build the vocabulary of characters and mappings to/from integers\n",
    "chars = sorted(list(set(''.join(words))))\n",
    "stoi = {s:i+1 for i,s in enumerate(chars)}\n",
    "stoi['.'] = 0\n",
    "itos = {i:s for s,i in stoi.items()}\n",
    "vocab_size = len(itos)\n",
    "print(itos)"
   ]
  },
  {
   "cell_type": "code",
   "execution_count": 50,
   "id": "d48fd15b-abce-4388-bb76-aa7d0b202366",
   "metadata": {},
   "outputs": [
    {
     "name": "stdout",
     "output_type": "stream",
     "text": [
      "torch.Size([182499, 3]) torch.Size([182499])\n",
      "torch.Size([22852, 3]) torch.Size([22852])\n",
      "torch.Size([22795, 3]) torch.Size([22795])\n"
     ]
    }
   ],
   "source": [
    "# build the dataset\n",
    "block_size = 3 # context length: how many characters do we take to predict the next one?\n",
    "\n",
    "def build_dataset(words):  \n",
    "  X, Y = [], []\n",
    "  \n",
    "  for w in words:\n",
    "    context = [0] * block_size\n",
    "    for ch in w + '.':\n",
    "      ix = stoi[ch]\n",
    "      X.append(context)\n",
    "      Y.append(ix)\n",
    "      context = context[1:] + [ix] # crop and append\n",
    "\n",
    "  X = torch.tensor(X)\n",
    "  Y = torch.tensor(Y)\n",
    "  print(X.shape, Y.shape)\n",
    "  return X, Y\n",
    "\n",
    "random.shuffle(words)\n",
    "n1 = int(0.8*len(words))\n",
    "n2 = int(0.9*len(words))\n",
    "\n",
    "Xtr,  Ytr  = build_dataset(words[:n1])     # 80%\n",
    "Xdev, Ydev = build_dataset(words[n1:n2])   # 10%\n",
    "Xte,  Yte  = build_dataset(words[n2:])     # 10%"
   ]
  },
  {
   "cell_type": "code",
   "execution_count": 51,
   "id": "9f63e863-2f03-4333-80fd-30a6c2bc2437",
   "metadata": {},
   "outputs": [
    {
     "name": "stdout",
     "output_type": "stream",
     "text": [
      "12097\n"
     ]
    }
   ],
   "source": [
    "#MLP Structure\n",
    "n_embd = 10 # the dimensionality of the character embedding vectors\n",
    "n_hidden = 200 # the number of neurons in the hidden layer of the MLP\n",
    "#fan-in = n_embd * block_size fan-out = n_hidden\n",
    "C  = torch.randn((vocab_size, n_embd)) ##idea is to scale w such that resulting data follow normal gaussian dist.v\n",
    "W1 = torch.randn((n_embd * block_size, n_hidden)) * (5/3)/((n_embd * block_size)**0.5) #multiply by gain, divide by sqrt of fan in (# of inputs)\n",
    "#b1 = torch.randn((n_hidden)) * 0.01 #ensuring tanh doesn't create dead neurons by lowering first pass\n",
    "W2 = torch.randn((n_hidden, vocab_size)) *0.01 #reducing size of logits to reduce initial loss\n",
    "b2 = torch.randn((vocab_size)) * 0 #dont want to add random numbers (high initial loss)\n",
    "\n",
    "bngain = torch.ones((1,n_hidden)) #note: one side effect of batchnorm is each h value coming through gets influenced by its batchmates,\n",
    "bnbias = torch.zeros((1,n_hidden)) #cont.: this isn't bad, slightly changes inputs (creates more noise), and actually fights overfitting (not modern anymore)\n",
    "bnmean_running = torch.zeros((1,n_hidden))\n",
    "bnstd_running = torch.ones((1, n_hidden))\n",
    "\n",
    "parameters = [C, W1, W2, b2, bngain, bnbias]\n",
    "print(sum(p.nelement() for p in parameters)) # number of parameters in total\n",
    "for p in parameters:\n",
    "    p.requires_grad = True\n",
    "\n",
    "#Note: deep NNs often have the structure linear layer (W), normalization (BatchNorm), nonlinearity (Tanh)"
   ]
  },
  {
   "cell_type": "code",
   "execution_count": null,
   "id": "e124b5c4-cce1-429c-8247-0e500b5b55af",
   "metadata": {},
   "outputs": [
    {
     "name": "stdout",
     "output_type": "stream",
     "text": [
      "      0/ 200000: 3.3071\n",
      "  10000/ 200000: 2.0988\n",
      "  20000/ 200000: 1.9241\n",
      "  30000/ 200000: 1.9332\n",
      "  40000/ 200000: 1.8161\n",
      "  50000/ 200000: 2.1702\n",
      "  60000/ 200000: 1.9482\n",
      "  70000/ 200000: 2.1338\n",
      "  80000/ 200000: 2.3519\n",
      "  90000/ 200000: 1.9273\n",
      " 100000/ 200000: 2.4621\n",
      " 110000/ 200000: 1.8724\n",
      " 120000/ 200000: 2.2350\n",
      " 130000/ 200000: 1.7278\n",
      " 140000/ 200000: 2.2601\n"
     ]
    }
   ],
   "source": [
    "#Optimization\n",
    "max_steps = 200000\n",
    "batch_size = 32\n",
    "lossi = []\n",
    "\n",
    "for i in range(max_steps):\n",
    "  \n",
    "    # minibatch construct\n",
    "    ix = torch.randint(0, Xtr.shape[0], (batch_size,))\n",
    "    Xb, Yb = Xtr[ix], Ytr[ix] # batch X,Y\n",
    "     \n",
    "    # forward pass\n",
    "    emb = C[Xb] # embed the characters into vectors\n",
    "    embcat = emb.view(emb.shape[0], -1) # concatenate the vectors\n",
    "    hpreact = embcat @ W1 #+ b1 # hidden layer pre-activation # b1 doesn't have influence b/c of BN \n",
    "\n",
    "        #batch normalization: #divide each batch by std and subtract mean to create Gaussian at init!!\n",
    "        #add in gain and bias such that NN can move this dist. as it learns, common to add after linear layers (not all)\n",
    "    bnmeani = hpreact.mean(0, keepdim = True)\n",
    "    bnstdi = hpreact.std(0, keepdim = True)\n",
    "    hpreact = bngain * (hpreact - bnmeani)/ bnstdi + bnbias\n",
    "    \n",
    "    with torch.no_grad():\n",
    "        bnmean_running = 0.999 *bnmean_running + 0.001 *bnmeani\n",
    "        bnstd_running = 0.999 *bnstd_running + 0.001 *bnstdi\n",
    "    \n",
    "    h = torch.tanh(hpreact) # hidden layer\n",
    "    logits = h @ W2 + b2 # output layer\n",
    "    loss = F.cross_entropy(logits, Yb) # loss function\n",
    "    \n",
    "    # backward pass\n",
    "    for p in parameters:\n",
    "        p.grad = None\n",
    "    loss.backward()\n",
    "      \n",
    "      # update\n",
    "    lr = 0.1 if i < 100000 else 0.01 # step learning rate decay\n",
    "    for p in parameters:\n",
    "        p.data += -lr * p.grad\n",
    "    \n",
    "      # track stats\n",
    "    if i % 10000 == 0: # print every once in a while\n",
    "        print(f'{i:7d}/{max_steps:7d}: {loss.item():.4f}')\n",
    "    lossi.append(loss.log10().item())\n",
    "    #break"
   ]
  },
  {
   "cell_type": "code",
   "execution_count": null,
   "id": "a2eb924f-2c7b-4d74-a239-a0ad53d0e16f",
   "metadata": {},
   "outputs": [],
   "source": [
    "plt.figure(figsize = (20,10)) #looking at Tanh activations, looking for dead neurons\n",
    "plt.imshow(h.abs()> 0.99, cmap = 'gray', interpolation = 'nearest') #black = active"
   ]
  },
  {
   "cell_type": "code",
   "execution_count": null,
   "id": "b7f6ce75-3db7-406a-a707-3bca34daa6f8",
   "metadata": {},
   "outputs": [],
   "source": [
    "plt.hist(h.view(-1).tolist(), 50); #inputs into backpropagation (1-T**2) * p.grad\n",
    "# the outputs of tanh"
   ]
  },
  {
   "cell_type": "markdown",
   "id": "52a22c2f-1ffd-4e6d-b409-6a8b11bd23d6",
   "metadata": {},
   "source": [
    "__What was wrong^:__\n",
    "originially, network was initalizing at way too high of loss (~25), we expect ~3.5 to be initial loss (reflects nll of 1/27). Happening because the initial probability distributions are not uniform (randomly generated)."
   ]
  },
  {
   "cell_type": "code",
   "execution_count": null,
   "id": "3ebbb978-b818-467a-b3f8-b6512c245594",
   "metadata": {},
   "outputs": [],
   "source": [
    "plt.plot(lossi)"
   ]
  },
  {
   "cell_type": "code",
   "execution_count": null,
   "id": "e9cbf68e-4751-4ad9-b041-93e43d0da502",
   "metadata": {},
   "outputs": [],
   "source": [
    "# batchnorm expects a batch input, but for one input, calculate global mean and std:\n",
    "# can also be done during training\n",
    "with torch.no_grad():\n",
    "    emb = C[Xtr]\n",
    "    embcat = emb.view(emb.shape[0], -1)\n",
    "    hpreact = embcat @ W1 #+ b1\n",
    "    bnmean = hpreact.mean(0, keepdims = True) #could also estimate these during training\n",
    "    bnstd = hpreact.std(0, keepdims = True)"
   ]
  },
  {
   "cell_type": "code",
   "execution_count": null,
   "id": "1f1db695-982b-457b-b6e2-65f8f5f05cb6",
   "metadata": {},
   "outputs": [],
   "source": [
    "@torch.no_grad() #disables gradient tracking for efficiency\n",
    "def split_loss(split):\n",
    "    x,y = {\n",
    "        'train': (Xtr, Ytr),\n",
    "        'val': (Xdev, Ydev),\n",
    "        'test': (Xte, Yte),\n",
    "    }[split]\n",
    "    emb = C[x]\n",
    "    embcat = emb.view(emb.shape[0], -1)\n",
    "    hpreact = embcat @ W1 #+b1\n",
    "    #hpreact = bngain * (hpreact -bnmean) /bnstd +bnbias\n",
    "    hpreact = bngain * (hpreact - bnmean_running) / bnstd_running + bnbias\n",
    "    h = torch.tanh(hpreact)\n",
    "    logits = h @ W2 + b2\n",
    "    loss = F.cross_entropy(logits, y)\n",
    "    print(split, loss.item())\n",
    "split_loss('train')\n",
    "split_loss('val')"
   ]
  },
  {
   "cell_type": "code",
   "execution_count": null,
   "id": "7021d167-71e3-4b6f-bc3d-96de6b473160",
   "metadata": {},
   "outputs": [],
   "source": [
    "#Sampling from model:\n",
    "for _ in range(20):\n",
    "    out = []\n",
    "    context = [0] *block_size\n",
    "    while True:\n",
    "        emb = C[torch.tensor([context])]\n",
    "        embcat = emb.view(emb.shape[0], -1)\n",
    "        hpreact = embcat @ W1 #+b1\n",
    "        #hpreact = bngain * (hpreact -bnmean) /bnstd +bnbias\n",
    "        hpreact = bngain * (hpreact - bnmean_running) / bnstd_running + bnbias\n",
    "        h = torch.tanh(hpreact)\n",
    "        logits = h @ W2 + b2\n",
    "        probs = F.softmax(logits, dim = 1)\n",
    "        ix = torch.multinomial(probs, num_samples = 1).item()\n",
    "        context = context[1:] + [ix]\n",
    "        out.append(ix)\n",
    "        if ix == 0:\n",
    "            break\n",
    "    print(''.join(itos[i] for i in out))"
   ]
  },
  {
   "cell_type": "code",
   "execution_count": null,
   "id": "4a429ba4-5aad-4609-97db-9c3c5e99c1e6",
   "metadata": {},
   "outputs": [],
   "source": [
    "#REwriting PyTorch module--------------------\n",
    "#rewrite of PyTorch nn section\n",
    "\n",
    "class Linear:\n",
    "    def __init__(self, fan_in, fan_out, bias = True):\n",
    "        self.weight = torch.randn((fan_in, fan_out)) / fan_in**0.5\n",
    "        self.bias = torch.zeros(fan_out) if bias else None\n",
    "        \n",
    "    def __call__(self, x):\n",
    "        self.out = x @ self.weight\n",
    "        if self.bias is not None:\n",
    "            self.out += self.bias\n",
    "        return self.out\n",
    "    def parameters(self):\n",
    "        return [self.weight] +([] if self.bias is None else [self.bias])\n",
    "\n",
    "class BatchNorm1d:\n",
    "    def __init__(self, dim, eps = 1e-5, momentum = 0.1):\n",
    "        self.eps = eps\n",
    "        self.momentum = momentum\n",
    "        self.training = True\n",
    "        #params:\n",
    "        self.gamma = torch.ones(dim)\n",
    "        self.beta = torch.zeros(dim)\n",
    "        #buffers:\n",
    "        self.running_mean = torch.zeros(dim)\n",
    "        self.running_var = torch.ones(dim)\n",
    "        \n",
    "    def __call__(self,x):\n",
    "        if self.training:\n",
    "            xmean = x.mean(0, keepdim= True)\n",
    "            xvar = x.var(0, keepdim = True)\n",
    "        else:\n",
    "            xmean = self.running_mean\n",
    "            xvar = self.running_var\n",
    "        xhat = (x-xmean) / torch.sqrt(xvar + self.eps)\n",
    "        self.out = self.gamma * xhat + self.beta\n",
    "        if self.training:\n",
    "            with torch.no_grad():\n",
    "                self.running_mean = (1 - self.momentum) * self.running_mean + self.momentum * xmean\n",
    "                self.running_var = (1 - self.momentum) * self.running_var + self.momentum * xvar\n",
    "        return self.out\n",
    "\n",
    "    def parameters(self):\n",
    "        return [self.gamma, self.beta]\n",
    "\n",
    "class Tanh:\n",
    "    def __call__(self,x):\n",
    "        self.out = torch.tanh(x)\n",
    "        return self.out\n",
    "    def parameters(self):\n",
    "        return []\n",
    "\n",
    "n_embd = 10 #dimensionality of embedding space\n",
    "n_hidden = 100 #number of neurons in hidden layer\n",
    "\n",
    "C = torch.randn((vocab_size, n_embd))\n",
    "layers = [ #introducing batchnorm allows for gain to be much less brittle\n",
    "    Linear(n_embd * block_size, n_hidden), BatchNorm1d(n_hidden), Tanh(),\n",
    "    Linear(n_hidden, n_hidden), BatchNorm1d(n_hidden), Tanh(),\n",
    "    Linear(n_hidden, n_hidden), BatchNorm1d(n_hidden), Tanh(),\n",
    "    Linear(n_hidden, n_hidden), BatchNorm1d(n_hidden), Tanh(),\n",
    "    Linear(n_hidden, n_hidden), BatchNorm1d(n_hidden), Tanh(),\n",
    "    Linear(n_hidden, vocab_size), BatchNorm1d(vocab_size)\n",
    "]\n",
    "\n",
    "gain = 5/3\n",
    "with torch.no_grad():\n",
    "    #make last layer less confident:\n",
    "    layers[-1].gamma *=0.1\n",
    "    #layers[-1].weight *= 0.1 for linear final layer\n",
    "    for layer in layers[:-1]:\n",
    "        if isinstance(layer, Linear):\n",
    "            layer.weight*= gain #adding gain to all linear layers to prevent data from being squashed too much by Tanh\n",
    "parameters = [C] + [p for layer in layers for p in layer.parameters()]\n",
    "print(sum(p.nelement() for p in parameters))\n",
    "for p in parameters:\n",
    "    p.requires_grad = True   "
   ]
  },
  {
   "cell_type": "code",
   "execution_count": null,
   "id": "f01db21f-9f2e-4fbe-9354-8cdb88b23296",
   "metadata": {},
   "outputs": [],
   "source": [
    "#Optimization\n",
    "max_steps = 200000\n",
    "batch_size = 32\n",
    "lossi = []\n",
    "ud = []\n",
    "\n",
    "for i in range(max_steps):\n",
    "  \n",
    "    # minibatch construct\n",
    "    ix = torch.randint(0, Xtr.shape[0], (batch_size,))\n",
    "    Xb, Yb = Xtr[ix], Ytr[ix] # batch X,Y\n",
    "     \n",
    "    # forward pass\n",
    "    emb = C[Xb] # embed the characters into vectors\n",
    "    x = emb.view(emb.shape[0], -1)\n",
    "    for layer in layers:\n",
    "        x = layer(x)\n",
    "    loss = F.cross_entropy(x, Yb)\n",
    "\n",
    "    # backward pass\n",
    "    for layer in layers:\n",
    "        layer.out.retain_grad()\n",
    "    for p in parameters:\n",
    "        p.grad = None\n",
    "    loss.backward()\n",
    "      \n",
    "      # update\n",
    "    lr = 0.1 if i < 100000 else 0.01 # step learning rate decay\n",
    "    for p in parameters:\n",
    "        p.data += -lr * p.grad\n",
    "    \n",
    "      # track stats\n",
    "    if i % 10000 == 0: # print every once in a while\n",
    "        print(f'{i:7d}/{max_steps:7d}: {loss.item():.4f}')\n",
    "    lossi.append(loss.log10().item())\n",
    "    with torch.no_grad():\n",
    "        ud.append([(lr*p.grad.std()/p.data.std()).log10().item() for p in parameters])\n",
    "    if i >1000:\n",
    "        break"
   ]
  },
  {
   "cell_type": "code",
   "execution_count": null,
   "id": "3028977c-6a5f-4bfe-95e6-44c55c2ac0e5",
   "metadata": {},
   "outputs": [],
   "source": [
    "# visualizing histograms for each tanh activation layer\n",
    "#activations stay relatively uniform (not too extreme)\n",
    "plt.figure(figsize=(20, 4)) # width and height of the plot\n",
    "legends = []\n",
    "for i, layer in enumerate(layers[:-1]): # note: exclude the output layer\n",
    "  if isinstance(layer, Tanh):\n",
    "    t = layer.out\n",
    "    print('layer %d (%10s): mean %+.2f, std %.2f, saturated: %.2f%%' % (i, layer.__class__.__name__, t.mean(), t.std(), (t.abs() > 0.97).float().mean()*100))\n",
    "    hy, hx = torch.histogram(t, density=True)\n",
    "    plt.plot(hx[:-1].detach(), hy.detach())\n",
    "    legends.append(f'layer {i} ({layer.__class__.__name__}')\n",
    "plt.legend(legends);\n",
    "plt.title('activation distribution')"
   ]
  },
  {
   "cell_type": "code",
   "execution_count": null,
   "id": "93841202-fead-44ee-954c-f6bba428b859",
   "metadata": {},
   "outputs": [],
   "source": [
    "# visualizing histogram of gradient distribution for tanh layers\n",
    "#gradients stay roughly the same accross all layers\n",
    "plt.figure(figsize=(20, 4)) # width and height of the plot\n",
    "legends = []\n",
    "for i, layer in enumerate(layers[:-1]): # note: exclude the output layer\n",
    "  if isinstance(layer, Tanh):\n",
    "    t = layer.out.grad\n",
    "    print('layer %d (%10s): mean %+f, std %e' % (i, layer.__class__.__name__, t.mean(), t.std()))\n",
    "    hy, hx = torch.histogram(t, density=True)\n",
    "    plt.plot(hx[:-1].detach(), hy.detach())\n",
    "    legends.append(f'layer {i} ({layer.__class__.__name__}')\n",
    "plt.legend(legends);\n",
    "plt.title('gradient distribution')"
   ]
  },
  {
   "cell_type": "code",
   "execution_count": null,
   "id": "a995410a-f172-49bf-b601-fec845139ff6",
   "metadata": {},
   "outputs": [],
   "source": [
    "# visualize histograms\n",
    "plt.figure(figsize=(20, 4)) # width and height of the plot\n",
    "legends = []\n",
    "for i,p in enumerate(parameters):\n",
    "  t = p.grad\n",
    "  if p.ndim == 2:\n",
    "    print('weight %10s | mean %+f | std %e | grad:data ratio %e' % (tuple(p.shape), t.mean(), t.std(), t.std() / p.std()))\n",
    "    hy, hx = torch.histogram(t, density=True)\n",
    "    plt.plot(hx[:-1].detach(), hy.detach())\n",
    "    legends.append(f'{i} {tuple(p.shape)}')\n",
    "plt.legend(legends)\n",
    "plt.title('weights gradient distribution');"
   ]
  },
  {
   "cell_type": "code",
   "execution_count": null,
   "id": "f68eb03c-9411-4bd7-9857-d8e2e1d9f09b",
   "metadata": {},
   "outputs": [],
   "source": [
    "#visualizing update vs. data sizes, ratio should be around -3 and evening out\n",
    "#can reveal if lr is too low/high\n",
    "plt.figure(figsize=(20, 4))\n",
    "legends = []\n",
    "for i,p in enumerate(parameters):\n",
    "  if p.ndim == 2:\n",
    "    plt.plot([ud[j][i] for j in range(len(ud))])\n",
    "    legends.append('param %d' % i)\n",
    "plt.plot([0, len(ud)], [-3, -3], 'k') # these ratios should be ~1e-3, indicate on plot\n",
    "plt.legend(legends);"
   ]
  },
  {
   "cell_type": "code",
   "execution_count": null,
   "id": "10a2780c-06d2-41ea-a73f-05b445344cad",
   "metadata": {},
   "outputs": [],
   "source": []
  },
  {
   "cell_type": "code",
   "execution_count": null,
   "id": "2d522bbf-90cf-4419-9fcc-06c0a9a2a8af",
   "metadata": {},
   "outputs": [],
   "source": []
  }
 ],
 "metadata": {
  "kernelspec": {
   "display_name": "Python 3 (ipykernel)",
   "language": "python",
   "name": "python3"
  },
  "language_info": {
   "codemirror_mode": {
    "name": "ipython",
    "version": 3
   },
   "file_extension": ".py",
   "mimetype": "text/x-python",
   "name": "python",
   "nbconvert_exporter": "python",
   "pygments_lexer": "ipython3",
   "version": "3.10.13"
  }
 },
 "nbformat": 4,
 "nbformat_minor": 5
}
