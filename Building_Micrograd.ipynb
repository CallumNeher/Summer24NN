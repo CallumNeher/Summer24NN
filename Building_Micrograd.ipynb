{
 "cells": [
  {
   "cell_type": "code",
   "execution_count": null,
   "metadata": {},
   "outputs": [],
   "source": [
    "!conda install graphviz -y"
   ]
  },
  {
   "cell_type": "code",
   "execution_count": 2,
   "metadata": {},
   "outputs": [],
   "source": [
    "import math\n",
    "import numpy as np\n",
    "import matplotlib.pyplot as plt\n"
   ]
  },
  {
   "cell_type": "code",
   "execution_count": 3,
   "metadata": {},
   "outputs": [],
   "source": [
    "#writing a wrapper value class as a building block for neurons\n",
    "class Value:\n",
    "  \n",
    "  def __init__(self, data, _children=(), _op='', label=''):\n",
    "    self.data = data\n",
    "    self.grad = 0.0\n",
    "    self._backward = lambda: None\n",
    "    self._prev = set(_children)\n",
    "    self._op = _op\n",
    "    self.label = label\n",
    "\n",
    "  def __repr__(self):\n",
    "    return f\"Value(data={self.data})\"\n",
    "  \n",
    "  def __add__(self, other):\n",
    "    other = other if isinstance(other, Value) else Value(other)\n",
    "    out = Value(self.data + other.data, (self, other), '+')\n",
    "    def _backward():\n",
    "          self.grad += 1 * out.grad\n",
    "          other.grad += 1 *out.grad       \n",
    "    out._backward = _backward\n",
    "    return out\n",
    "\n",
    "  def __mul__(self, other):\n",
    "    other = other if isinstance(other, Value) else Value(other)\n",
    "    out = Value(self.data * other.data, (self, other), '*')\n",
    "    def _backward():\n",
    "        self.grad += other.data * out.grad\n",
    "        other.grad += self.data *out.grad\n",
    "    out._backward = _backward\n",
    "    return out      \n",
    "      \n",
    "  def __radd__(self, other):\n",
    "      return self+other\n",
    "      \n",
    "  def __rmul__(self, other):\n",
    "      return self*other\n",
    "      \n",
    "  def __truediv__(self, other):\n",
    "      return self*other**-1 \n",
    "      \n",
    "  def __neg__(self):\n",
    "      return self*-1\n",
    "      \n",
    "  def __sub__(self, other):\n",
    "      return self+(-other)\n",
    "      \n",
    "  def __pow__(self, other):\n",
    "      assert isinstance(other, (int,float))\n",
    "      out = Value(self.data**other, (self, ), f'**{other}')\n",
    "      def _backward():\n",
    "          self.grad += other*self.data**(other-1) * out.grad\n",
    "      out._backward = _backward \n",
    "      return out\n",
    "\n",
    "  def tanh(self):\n",
    "    n= self.data\n",
    "    t = (math.exp(2*n)-1)/(math.exp(2*n)+1)\n",
    "    out = Value(t, (self, ), 'tanh')\n",
    "    def _backward():\n",
    "        self.grad += (1-t**2) * out.grad\n",
    "    out._backward = _backward\n",
    "    return out   \n",
    "      \n",
    "  def exp(self):\n",
    "    x = self.data\n",
    "    out = Value(math.exp(x), (self, ), 'exp')\n",
    "    def _backward():\n",
    "        self.grad += out.data *out.grad\n",
    "    out._backward = _backward\n",
    "    return out\n",
    "      \n",
    "  def backward(self):\n",
    "    self.grad = 1\n",
    "    topo = [] #using topological sort function so that Values are in correct order for backprop\n",
    "    visited = set()\n",
    "    def build_topo(v):\n",
    "        if v not in visited:\n",
    "            visited.add(v)\n",
    "            for child in v._prev:\n",
    "                build_topo(child)\n",
    "            topo.append(v)\n",
    "    build_topo(self)\n",
    "    for node in reversed(topo):\n",
    "        node._backward()"
   ]
  },
  {
   "cell_type": "code",
   "execution_count": 4,
   "metadata": {},
   "outputs": [],
   "source": [
    "#grapher\n",
    "from graphviz import Digraph\n",
    "\n",
    "def trace(root):\n",
    "  # builds a set of all nodes and edges in a graph\n",
    "  nodes, edges = set(), set()\n",
    "  def build(v):\n",
    "    if v not in nodes:\n",
    "      nodes.add(v)\n",
    "      for child in v._prev:\n",
    "        edges.add((child, v))\n",
    "        build(child)\n",
    "  build(root)\n",
    "  return nodes, edges\n",
    "\n",
    "def draw_dot(root):\n",
    "  dot = Digraph(format='svg', graph_attr={'rankdir': 'LR'}) # LR = left to right\n",
    "  \n",
    "  nodes, edges = trace(root)\n",
    "  for n in nodes:\n",
    "    uid = str(id(n))\n",
    "    # for any value in the graph, create a rectangular ('record') node for it\n",
    "    dot.node(name = uid, label = \"{ %s | data %.4f | grad % .4f}\" % (n.label, n.data, n.grad), shape='record')\n",
    "    if n._op:\n",
    "      # if this value is a result of some operation, create an op node for it\n",
    "      dot.node(name = uid + n._op, label = n._op)\n",
    "      # and connect this node to it\n",
    "      dot.edge(uid + n._op, uid)\n",
    "\n",
    "  for n1, n2 in edges:\n",
    "    # connect n1 to the op node of n2\n",
    "    dot.edge(str(id(n1)), str(id(n2)) + n2._op)\n",
    "\n",
    "  return dot"
   ]
  },
  {
   "cell_type": "code",
   "execution_count": 5,
   "metadata": {},
   "outputs": [],
   "source": [
    "# inputs x1,x2\n",
    "x1 = Value(2.0, label='x1')\n",
    "x2 = Value(0.0, label='x2')\n",
    "# weights w1,w2\n",
    "w1 = Value(-3.0, label='w1')\n",
    "w2 = Value(1.0, label='w2')\n",
    "# bias of the neuron\n",
    "b = Value(6.8813735870195432, label='b')\n",
    "# x1*w1 + x2*w2 + b\n",
    "x1w1 = x1*w1; x1w1.label = 'x1*w1'\n",
    "x2w2 = x2*w2; x2w2.label = 'x2*w2'\n",
    "x1w1x2w2 = x1w1 + x2w2; x1w1x2w2.label = 'x1*w1 + x2*w2'\n",
    "n = x1w1x2w2 + b; n.label = 'n'\n",
    "o = n.tanh(); o.label = 'o'"
   ]
  },
  {
   "cell_type": "code",
   "execution_count": 6,
   "metadata": {},
   "outputs": [],
   "source": [
    "import random\n",
    "class Neuron:\n",
    "    def __init__(self, nin):\n",
    "        self.w = [Value(random.uniform(-1,1)) for _ in range(nin)] #weight\n",
    "        self.b = Value(random.uniform(-1,1)) #bias\n",
    "    def __call__(self, x):\n",
    "        # w * x + ba\n",
    "        act = sum((wi*xi for wi, xi in zip(self.w, x)), self.b)\n",
    "        out = act.tanh()\n",
    "        return out\n",
    "    def parameters(self):\n",
    "        return self.w + [self.b]\n",
    "\n",
    "class Layer:\n",
    "    def __init__(self, nin, nout):\n",
    "        self.neurons = [Neuron(nin) for _ in range(nout)]\n",
    "    def __call__(self, x):\n",
    "        outs = [n(x) for n in self.neurons]\n",
    "        return outs[0] if len(outs) == 1 else outs\n",
    "    def parameters(self):\n",
    "        return [p for neuron in self.neurons for p in neuron.parameters()]\n",
    "    \n",
    "class MLP: #multi-layer perceptron\n",
    "    def __init__(self, nin, nouts):\n",
    "        sz = [nin] + nouts\n",
    "        self.layers = [Layer(sz[i], sz[i+1]) for i in range(len(nouts))]\n",
    "    def __call__(self, x):\n",
    "        for layer in self.layers:\n",
    "            x = layer(x)\n",
    "        return x\n",
    "        \n",
    "    def parameters(self):\n",
    "        return [p for layer in self.layers for p in layer.parameters()]\n"
   ]
  },
  {
   "cell_type": "code",
   "execution_count": 7,
   "metadata": {},
   "outputs": [],
   "source": [
    "#EXAMPLE DATASET\n",
    "n = MLP(3,[4,4,1])\n",
    "xs = [\n",
    "    [2,3,-1],\n",
    "    [3,-1,0.5],\n",
    "    [0.5,1,1],\n",
    "    [1,1,-1],\n",
    "]\n",
    "ys = [1,-1,-1,1]"
   ]
  },
  {
   "cell_type": "code",
   "execution_count": 8,
   "metadata": {},
   "outputs": [
    {
     "name": "stdout",
     "output_type": "stream",
     "text": [
      "0 5.901337561285715\n",
      "1 2.989918591080861\n",
      "2 2.517998315559133\n",
      "3 2.0434543313589515\n",
      "4 1.53552638340084\n",
      "5 1.0516898765650082\n",
      "6 0.6915959775791766\n",
      "7 0.47309021279321173\n",
      "8 0.3439002500312851\n",
      "9 0.26526791666259786\n",
      "10 0.2133951745179848\n",
      "11 0.17705265358413985\n",
      "12 0.15044557726205188\n",
      "13 0.13026252286311138\n",
      "14 0.11450415085541141\n",
      "15 0.101904548688729\n",
      "16 0.09162886468286238\n",
      "17 0.08310701931497108\n",
      "18 0.07593792375625688\n",
      "19 0.06983200419061375\n",
      "20 0.06457544649645361\n",
      "21 0.0600072355489716\n",
      "22 0.056003991179826185\n",
      "23 0.05246970072984787\n",
      "24 0.04932861083514104\n",
      "25 0.046520207355519996\n",
      "26 0.04399560583338725\n",
      "27 0.04171491367497737\n",
      "28 0.03964527380859602\n",
      "29 0.03775939410257813\n"
     ]
    },
    {
     "data": {
      "text/plain": [
       "[<matplotlib.lines.Line2D at 0x774894194400>]"
      ]
     },
     "execution_count": 8,
     "metadata": {},
     "output_type": "execute_result"
    },
    {
     "data": {
      "image/png": "[encoded data removed]",
      "text/plain": [
       "<Figure size 640x480 with 1 Axes>"
      ]
     },
     "metadata": {},
     "output_type": "display_data"
    }
   ],
   "source": [
    "plot = []\n",
    "for k in range(30):\n",
    "#forward pass:\n",
    "    ypred = [n(x) for x in xs]\n",
    "    loss = sum([(yout-ygt)**2 for ygt, yout in zip(ys,ypred)])\n",
    "\n",
    "#backward pass:\n",
    "    for p in n.parameters():\n",
    "        p.grad = 0 #zero the grad\n",
    "    loss.backward()\n",
    "\n",
    "#update:\n",
    "    for p in n.parameters():\n",
    "        p.data += -0.05*p.grad #learning rate = 0.05\n",
    "    print(k,loss.data)\n",
    "    plot.append(loss.data)\n",
    "\n",
    "plt.plot(np.arange(30),plot,'r')"
   ]
  },
  {
   "cell_type": "markdown",
   "metadata": {},
   "source": [
    "__INTRO TO PYTORCH__\n",
    "PyTorch does the same thing as micrograd, except micrograd is only capable of single item Tensors"
   ]
  },
  {
   "cell_type": "code",
   "execution_count": 9,
   "metadata": {},
   "outputs": [],
   "source": [
    "import torch"
   ]
  },
  {
   "cell_type": "code",
   "execution_count": 10,
   "metadata": {},
   "outputs": [
    {
     "name": "stdout",
     "output_type": "stream",
     "text": [
      "0.7071066904050358\n",
      "---\n",
      "x2 0.5000001283844369\n",
      "w2 0.0\n",
      "x1 -1.5000003851533106\n",
      "w1 1.0000002567688737\n"
     ]
    }
   ],
   "source": [
    "x1 = torch.Tensor([2.0]).double()                ; x1.requires_grad = True\n",
    "x2 = torch.Tensor([0.0]).double()                ; x2.requires_grad = True\n",
    "w1 = torch.Tensor([-3.0]).double()               ; w1.requires_grad = True\n",
    "w2 = torch.Tensor([1.0]).double()                ; w2.requires_grad = True\n",
    "b = torch.Tensor([6.8813735870195432]).double()  ; b.requires_grad = True\n",
    "n = x1*w1 + x2*w2 + b\n",
    "o = torch.tanh(n)\n",
    "\n",
    "print(o.data.item()) #forward pass\n",
    "o.backward()\n",
    "\n",
    "print('---')\n",
    "print('x2', x2.grad.item()) #backward pass\n",
    "print('w2', w2.grad.item())\n",
    "print('x1', x1.grad.item())\n",
    "print('w1', w1.grad.item())"
   ]
  }
 ],
 "metadata": {
  "kernelspec": {
   "display_name": "Python 3 (ipykernel)",
   "language": "python",
   "name": "python3"
  },
  "language_info": {
   "codemirror_mode": {
    "name": "ipython",
    "version": 3
   },
   "file_extension": ".py",
   "mimetype": "text/x-python",
   "name": "python",
   "nbconvert_exporter": "python",
   "pygments_lexer": "ipython3",
   "version": "3.10.13"
  }
 },
 "nbformat": 4,
 "nbformat_minor": 4
}
