{
 "cells": [
  {
   "cell_type": "markdown",
   "id": "ff0c2e06-3cde-4e99-ad8a-be1d01eeaa95",
   "metadata": {},
   "source": [
    "__Expanding single layer Bigram into an MLP__\n",
    "\n",
    "This project expands upon the previous work of creating a single layer character level language model and will allow for next-letter prediction based upon more than one previous character."
   ]
  },
  {
   "cell_type": "code",
   "execution_count": 1,
   "id": "d3480ddf-5f54-4b7c-be9d-0dbab209beff",
   "metadata": {},
   "outputs": [],
   "source": [
    "import matplotlib.pyplot as plt\n",
    "import math\n",
    "import torch\n",
    "import torch.nn.functional as F\n",
    "import random"
   ]
  },
  {
   "cell_type": "code",
   "execution_count": 2,
   "id": "15600260-ab48-42bf-b38b-fbf14055ec1b",
   "metadata": {},
   "outputs": [],
   "source": [
    "words =  open('names.txt','r').read().splitlines()"
   ]
  },
  {
   "cell_type": "code",
   "execution_count": 3,
   "id": "dc4bd653-3e65-43cf-baac-f61840b376ff",
   "metadata": {},
   "outputs": [],
   "source": [
    "#contstruct tokenizer (character mapping to/from integers)\n",
    "chars = sorted(list(set(''.join(words))))\n",
    "stoi = {s:i+1 for i,s in enumerate(chars)}\n",
    "stoi['.'] = 0\n",
    "itos = {i:s for s,i in stoi.items()}"
   ]
  },
  {
   "cell_type": "code",
   "execution_count": 4,
   "id": "31bbe073-a604-447c-a158-7afd95128ffd",
   "metadata": {},
   "outputs": [
    {
     "name": "stdout",
     "output_type": "stream",
     "text": [
      "torch.Size([182625, 3]) torch.Size([182625])\n",
      "torch.Size([22655, 3]) torch.Size([22655])\n",
      "torch.Size([22866, 3]) torch.Size([22866])\n"
     ]
    }
   ],
   "source": [
    "#building data set\n",
    "block_size = 3\n",
    "def build_dataset(words,block_size):\n",
    "    X,Y = [],[]\n",
    "    for w in words:\n",
    "        context = [0] * block_size\n",
    "        for ch in w +'.':\n",
    "            ix = stoi[ch]\n",
    "            X.append(context)\n",
    "            Y.append(ix)\n",
    "            context = context[1:] +[ix] #changing contect for next word\n",
    "    X = torch.tensor(X)\n",
    "    Y = torch.tensor(Y)\n",
    "    print(X.shape, Y.shape)\n",
    "    return X, Y\n",
    "\n",
    "#splitting into train, dev, test sets\n",
    "random.seed(42)\n",
    "random.shuffle(words)\n",
    "n1 = int(0.8*len(words))\n",
    "n2 = int(0.9*len(words))\n",
    "\n",
    "# training split (80%), dev/validation split(10%), test split(10%):\n",
    "Xtr, Ytr = build_dataset(words[:n1], block_size)\n",
    "Xdev, Ydev = build_dataset(words[n1:n2], block_size)\n",
    "Xte, Yte = build_dataset(words[n2:], block_size)"
   ]
  },
  {
   "cell_type": "code",
   "execution_count": 5,
   "id": "b437c582-146c-4388-b2df-476c388baf17",
   "metadata": {},
   "outputs": [
    {
     "name": "stdout",
     "output_type": "stream",
     "text": [
      "11897\n"
     ]
    }
   ],
   "source": [
    "C = torch.randn((27,10))\n",
    "W1 = torch.randn((30,200)) #recieves block size * num of dimensions inputs, 200 neurons\n",
    "b1 = torch.randn(200)\n",
    "W2 = torch.randn((200,27))\n",
    "b2 = torch.randn(27)\n",
    "params = [C, W1, b1, W2, b2]\n",
    "for p in params:\n",
    "    p.requires_grad = True\n",
    "print(sum(p.nelement() for p in params))"
   ]
  },
  {
   "cell_type": "code",
   "execution_count": 6,
   "id": "1d0e776b-ceda-45e0-a04b-88c6190568fb",
   "metadata": {},
   "outputs": [],
   "source": [
    "#initialize stats:\n",
    "stepi = []\n",
    "lri = [] #recording each learning rate and attributed loss\n",
    "lossi = [] "
   ]
  },
  {
   "cell_type": "code",
   "execution_count": 7,
   "id": "482363c1-727a-4312-8ab0-4ee251959260",
   "metadata": {},
   "outputs": [],
   "source": [
    "for i in range(200000):\n",
    "#construct a smaller batch instead of passing whole dataset\n",
    "    ix = torch.randint(0,Xtr.shape[0], (50,))\n",
    "#forward pass\n",
    "    emb = C[Xtr[ix]]\n",
    "    h = torch.tanh(emb.view(-1,30) @W1 + b1) #emb.view() concatenates emb such that we can multiply with W1\n",
    "    logits = h@W2 +b2 #have to be careful with broadcasting here^\n",
    "        #counts = logits.exp()\n",
    "        #prob = counts/counts.sum(1, keepdims = True)\n",
    "        #nll_loss = -prob[torch.arange(32), Y].log().mean()\n",
    "    loss = F.cross_entropy(logits, Ytr[ix]) #does same as above 3 lines skips innefficient intermediate tensors\n",
    "#backward pass:\n",
    "    for p in params:\n",
    "        p.grad = None\n",
    "    loss.backward()\n",
    "#update\n",
    "    lr = 0.1 if i < 100000 else 0.01\n",
    "    for p in params:\n",
    "        p.data += -lr*p.grad\n",
    "\n",
    "#track stats\n",
    "    #lri.append(lre[i])\n",
    "    lossi.append(loss.log10().item()) #tracking lr and loss\n",
    "    stepi.append(i)"
   ]
  },
  {
   "cell_type": "code",
   "execution_count": 8,
   "id": "8de81bc3-703b-4c3e-98cc-a42ca38760b0",
   "metadata": {},
   "outputs": [
    {
     "name": "stdout",
     "output_type": "stream",
     "text": [
      "tensor(2.1581, grad_fn=<NllLossBackward0>)\n"
     ]
    }
   ],
   "source": [
    "emb = C[Xdev]\n",
    "h = torch.tanh(emb.view(-1,30) @W1 + b1)\n",
    "logits = h@W2 +b2\n",
    "loss = F.cross_entropy(logits, Ydev)\n",
    "print(loss)"
   ]
  },
  {
   "cell_type": "code",
   "execution_count": 9,
   "id": "7078913a-4c59-4ef8-b2bb-d3528148afd0",
   "metadata": {},
   "outputs": [
    {
     "name": "stdout",
     "output_type": "stream",
     "text": [
      "tensor(2.1138, grad_fn=<NllLossBackward0>)\n"
     ]
    }
   ],
   "source": [
    "emb = C[Xtr]\n",
    "h = torch.tanh(emb.view(-1,30) @W1 + b1)\n",
    "logits = h@W2 +b2\n",
    "loss = F.cross_entropy(logits, Ytr)\n",
    "print(loss)"
   ]
  },
  {
   "cell_type": "code",
   "execution_count": 10,
   "id": "569ad4eb-33e8-4cbf-8f58-cf037366851c",
   "metadata": {},
   "outputs": [
    {
     "name": "stdout",
     "output_type": "stream",
     "text": [
      "tensor(2.1557, grad_fn=<NllLossBackward0>)\n"
     ]
    }
   ],
   "source": [
    "emb = C[Xte]\n",
    "h = torch.tanh(emb.view(-1,30) @W1 + b1)\n",
    "logits = h@W2 +b2\n",
    "loss = F.cross_entropy(logits, Yte)\n",
    "print(loss)"
   ]
  },
  {
   "cell_type": "code",
   "execution_count": 11,
   "id": "d45b1391-f0ab-4a58-914d-941d32454f11",
   "metadata": {},
   "outputs": [
    {
     "name": "stdout",
     "output_type": "stream",
     "text": [
      "chrie.\n",
      "julionneth.\n",
      "kello.\n",
      "jatijahan.\n",
      "alla.\n",
      "brona.\n",
      "biyabreed.\n",
      "gemiah.\n",
      "car.\n",
      "rael.\n",
      "kiya.\n",
      "lmieron.\n",
      "triellin.\n",
      "adh.\n",
      "bello.\n",
      "yair.\n",
      "yariana.\n",
      "zina.\n",
      "ari.\n",
      "dun.\n"
     ]
    }
   ],
   "source": [
    "#sampling from model:\n",
    "for _ in range(20):\n",
    "    out = []\n",
    "    context = [0] *block_size\n",
    "    while True:\n",
    "        emb = C[torch.tensor([context])]\n",
    "        h = torch.tanh(emb.view(1,-1) @ W1 +b1)\n",
    "        logits = h @ W2 + b2\n",
    "        probs = F.softmax(logits, dim = 1)\n",
    "        ix = torch.multinomial(probs, num_samples = 1).item()\n",
    "        context = context[1:] + [ix]\n",
    "        out.append(ix)\n",
    "        if ix == 0:\n",
    "            break\n",
    "    print(''.join(itos[i] for i in out))"
   ]
  },
  {
   "cell_type": "code",
   "execution_count": 36,
   "id": "fcb8213c-1254-4ce5-9cd9-49ab8de7e348",
   "metadata": {},
   "outputs": [],
   "source": [
    "## Finding optimal LR NOTES\n",
    "##creating a range of learning rates\n",
    "#lre = torch.linspace(-3,0,1000)\n",
    "#lrs = 10**lre\n",
    "\n",
    "#lri = [] #recording each learning rate and attributed loss\n",
    "#lossi = [] #add these to iterating descent cell\n",
    "##track stats\n",
    "#lri.append(lre[i])\n",
    "#lossi.append(loss.item()) #tracking lr and loss\n",
    "\n",
    "##plot lre vs loss to determine optimal learning rate exponent and thus lr\n",
    "#plt.plot(lri,lossi)\n",
    "#plt.plot(stepi,lossi) #look at increasing steps vs. decreasing loss"
   ]
  },
  {
   "cell_type": "code",
   "execution_count": null,
   "id": "b9de9586-e7ba-456c-9d64-bbb31ace2fdb",
   "metadata": {},
   "outputs": [],
   "source": []
  }
 ],
 "metadata": {
  "kernelspec": {
   "display_name": "Python 3 (ipykernel)",
   "language": "python",
   "name": "python3"
  },
  "language_info": {
   "codemirror_mode": {
    "name": "ipython",
    "version": 3
   },
   "file_extension": ".py",
   "mimetype": "text/x-python",
   "name": "python",
   "nbconvert_exporter": "python",
   "pygments_lexer": "ipython3",
   "version": "3.10.13"
  }
 },
 "nbformat": 4,
 "nbformat_minor": 5
}
